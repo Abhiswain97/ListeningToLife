{
 "cells": [
  {
   "cell_type": "markdown",
   "metadata": {},
   "source": [
    "\n",
    "# Pluto.jl + fastpages!\n",
    "\n",
    "> converting pluto.jl notebook to jupyter and cleaning them to host as a fastpages blog post\n",
    "\n",
    "- toc: true\n",
    "- categories: [blog post, fastai, fastpages]\n",
    "- comments: true\n",
    "- image: images/plutojl_fastpages.jpg\n"
   ]
  },
  {
   "cell_type": "markdown",
   "metadata": {},
   "source": [
    "Hi all! Today's post is for people who want to use Julia to write blog posts. I expect that you must have heard about this cool thing by [fast.ai](https://github.com/fastai) folks called [fastpages](https://github.com/fastai/fastpages).\n",
    "\n",
    "# What is fastpages and why to use it?\n",
    "\n",
    "> An easy to use blogging platform, with support for Jupyter notebooks, Word docs, and Markdown.\n",
    "\n",
    "Whole of my blog is made using fastpages. It takes just a few minutes to setup a whole blog using fastpages. Now, the best feature of fastpages is that you can use Jupyter notebooks to write a post and fastpages will automatically convert them into a blog post on your blog. Now this is seriously cool! Not just that you can write posts using regular markdown files, and also word document. fastpages will automatically render them as posts. You can refer their repo for more details: [fastpages](https://fastpages.fast.ai/)\n",
    "\n",
    "# Julia + fastpages\n",
    "\n",
    "I have been trying julia out for few days now and instead of Python I wanted to use Julia to write blog posts. You can install the IJulia package and use Jupyter notebooks to write blog posts just like you do it in python. However, I would like to bring to your notice another very nice tool which I found about during JuliaCon 2020. I have used it a lot now and I can tell you that it addresses a lot of pitfalls of Jupyter Notebooks. It kind of changes the game. Currently, it only supports Julia and not Python. It's called [Pluto.jl](https://github.com/fonsp/Pluto.jl).\n",
    "\n",
    "# Pluto.jl\n",
    "\n",
    "Pluto.jl is: \n",
    "\n",
    "> Simple reactive notebooks for Julia\n",
    "\n",
    "Let me explain it to you what **\"reactivity\"** is. In Jupyter notebook, say you have used a function which you haven't imported. Naturally, as you run the cell it would raise an error. To fix this error, you go all the way to the top where your imports are, import the particular function and re-run all the cells where the function is used. This is where Pluto.jl shines over Jupyter notebook. In Pluto as you import the function all the cells which depend on it are re-run automatically. It's pretty smart in figuring out dependencies. This is a very powerful feature.\n",
    "\n",
    "# Pluto.jl + fastpages!\n",
    "\n",
    "Finally we look at how we can use Pluto.jl to write blog posts. Now, fastpages requires the notebooks to be Ipython notebooks,to be able to render them as posts. So, what do we do? We will convert the Pluto.jl notebooks to Ipython notebook first and then use them. \n",
    "\n",
    "To do this, there's this tool made by the creator of Pluto.jl we can use -> [pluto-jl-jupyter-conversion](https://observablehq.com/@olivier_plas/pluto-jl-jupyter-conversion). Pluto saves your notebooks as .jl files. All you have to do is upload your Pluto.jl notebook and it will convert it into Jupyter notebook after which u can download it.\n",
    "\n",
    "There's only one issue. The converted notebook has all the cells as code cells. Even the cells we used as markdown cells are converted to code cells. We need to fix this!\n",
    "I have made a simple utility to solve this issue -> [pluto-jl-jupyter-conversion-cleaner](https://github.com/Abhiswain97/pluto-jl-jupyter-conversion-cleaner)\n",
    "\n",
    "So, finally these are the steps you need to follow to convert your Pluto.jl notebook into a Jupyter notebook you can use with fastpages \n",
    "\n",
    "## Steps\n",
    "\n",
    "- Use [pluto-jl-jupyter-conversion](https://observablehq.com/@olivier_plas/pluto-jl-jupyter-conversion) to convert the Pluto.jl notebook to a Ipython notebook. Download the Ipython notebook.\n",
    "\n",
    "- After that:\n",
    "\n",
    "```\n",
    "git clone https://github.com/Abhiswain97/pluto-jl-jupyter-conversion-cleaner.git\n",
    "cd pluto-jl-jupyter-conversion-cleaner\n",
    "python cleaner.py --fname <your converted .ipynb file>\n",
    "```\n",
    "\n",
    "The converted file is saved as file-name-cleaned.ipynb in the same folder as your original Jupyter notebook.\n",
    "\n",
    "Now, all you got to do is make it in the format fastpages expects, it has to be saved as: **yyyy-mm-dd-name.ipynb**. \n",
    "There are other options you can specify. Have a look at thier docs: [fastpages](https://fastpages.fast.ai/)\n",
    "    \n",
    "Yay! we finally have a Jupyter notebook we can use with fastpages! <br>\n",
    "If you made it this far, then let me tell you something, the post you're reading right now is written using Pluto.jl and fastpages! :)"
   ]
  },
  {
   "cell_type": "code",
   "execution_count": null,
   "metadata": {},
   "outputs": [],
   "source": []
  }
 ],
 "metadata": {
  "kernelspec": {
   "display_name": "Julia 1.4.2",
   "language": "julia",
   "name": "julia-1.4"
  },
  "language_info": {
   "file_extension": ".jl",
   "mimetype": "application/julia",
   "name": "julia",
   "version": "1.4.2"
  }
 },
 "nbformat": 4,
 "nbformat_minor": 2
}
